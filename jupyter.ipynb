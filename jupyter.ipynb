{
 "cells": [
  {
   "cell_type": "code",
   "execution_count": 23,
   "metadata": {},
   "outputs": [],
   "source": [
    "import os\n",
    "import openai\n",
    "from dotenv import load_dotenv\n",
    "from langchain_openai import OpenAI\n",
    "from langchain_core.messages import HumanMessage, SystemMessage\n",
    "from langchain_core.prompts import ChatPromptTemplate"
   ]
  },
  {
   "cell_type": "code",
   "execution_count": 20,
   "metadata": {},
   "outputs": [],
   "source": [
    "load_dotenv()\n",
    "OPENAI_API_KEY = os.getenv(\"OPENAI_API_KEY\")\n",
    "SERPAPI_API_KEY = os.getenv(\"SERPAPI_API_KEY\")  \n",
    " \n",
    "llm_model=\"gpt-3.5-turbo-0125\"\n",
    "chat_model=OpenAI(openai_api_key=OPENAI_API_KEY)\n",
    "# chat_model=OpenAI(temperature=0.7,model=llm_model)"
   ]
  },
  {
   "cell_type": "code",
   "execution_count": 21,
   "metadata": {},
   "outputs": [],
   "source": [
    "customer_review=\"\"\"\n",
    "Your product is trrrible! I don't know how\n",
    "you were able to get this to the market.\n",
    "I don't want this! Actually no one should want this.\n",
    "Seriously! Give me money now!\n",
    "\"\"\"\n",
    "template_string=f\"\"\"\n",
    "Translate the following text {customer_review}\n",
    "into italiano in a polite tone\n",
    "\"\"\""
   ]
  },
  {
   "cell_type": "code",
   "execution_count": 22,
   "metadata": {},
   "outputs": [
    {
     "data": {
      "text/plain": [
       "'\\nIl vostro prodotto è terribile! Non so come siete riusciti a portarlo sul mercato. Non lo voglio! In realtà, nessuno dovrebbe volerlo. Davvero! Datemi i soldi adesso, per favore.'"
      ]
     },
     "execution_count": 22,
     "metadata": {},
     "output_type": "execute_result"
    }
   ],
   "source": [
    "\n",
    "\n",
    "prompt_template = ChatPromptTemplate.from_messages([\n",
    "    (\"system\", f\"{template_string}\"),\n",
    "    (\"user\", \"{input}\")\n",
    "])\n",
    "\n",
    "chain = prompt_template | chat_model\n",
    "\n",
    "chain.invoke({\"input\": f\"{template_string}\"})"
   ]
  }
 ],
 "metadata": {
  "kernelspec": {
   "display_name": "venv",
   "language": "python",
   "name": "python3"
  },
  "language_info": {
   "codemirror_mode": {
    "name": "ipython",
    "version": 3
   },
   "file_extension": ".py",
   "mimetype": "text/x-python",
   "name": "python",
   "nbconvert_exporter": "python",
   "pygments_lexer": "ipython3",
   "version": "3.10.11"
  }
 },
 "nbformat": 4,
 "nbformat_minor": 2
}
